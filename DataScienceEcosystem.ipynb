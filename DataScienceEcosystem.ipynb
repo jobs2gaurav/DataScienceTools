{
 "cells": [
  {
   "cell_type": "markdown",
   "id": "3f7bee54-9355-4f25-9cfb-eaf31c24e5a1",
   "metadata": {
    "tags": []
   },
   "source": [
    "# <h1>Data Science Tools and Ecosystem</h1>"
   ]
  },
  {
   "cell_type": "markdown",
   "id": "04eb0ca1-a2c7-45a1-8a41-ccc03c815e93",
   "metadata": {},
   "source": [
    "# In this notebook, Data Science Tools and Ecosystem are summarized."
   ]
  },
  {
   "cell_type": "markdown",
   "id": "b52d4845-ff6e-4486-8d76-21a16504247a",
   "metadata": {},
   "source": [
    "# Some of the commonly used libraries used by Data Scientists include:\n",
    "  <ol>\n",
    "  <li>R</li>\n",
    "  <li>Python</li>\n",
    "  <li>Scala</li>\n",
    "  </ol>\n",
    "\n"
   ]
  },
  {
   "cell_type": "markdown",
   "id": "1bca3f98-4f98-40fa-81a6-44ab91cb9f8e",
   "metadata": {},
   "source": [
    "| Data Science Tools    | \n",
    "| --------------------- | \n",
    "| RSutio       | \n",
    "| TenserFlow   | \n",
    "| Apache Spark | "
   ]
  },
  {
   "cell_type": "code",
   "execution_count": 1,
   "id": "5b261cba-47d0-4828-b7b7-53153abbab3c",
   "metadata": {},
   "outputs": [
    {
     "data": {
      "text/plain": [
       "17"
      ]
     },
     "execution_count": 1,
     "metadata": {},
     "output_type": "execute_result"
    }
   ],
   "source": [
    "# This a simple arithmetic expression to mutiply then add integers\n",
    "(3*4)+5"
   ]
  },
  {
   "cell_type": "code",
   "execution_count": 2,
   "id": "7ce4e247-7be8-44d2-802b-737a43a88db5",
   "metadata": {},
   "outputs": [
    {
     "data": {
      "text/plain": [
       "3.3333333333333335"
      ]
     },
     "execution_count": 2,
     "metadata": {},
     "output_type": "execute_result"
    }
   ],
   "source": [
    "# This will convert 200 minutes to hours by diving by 60\n",
    "200/60"
   ]
  },
  {
   "cell_type": "markdown",
   "id": "208a3c81-e48f-449a-927a-6e22aeab73ed",
   "metadata": {},
   "source": [
    "# **Objectives:**\n",
    "- List popular languages for Data Science\n",
    "- Data Science Tools\n",
    "- Git hub\n",
    "\n"
   ]
  },
  {
   "cell_type": "markdown",
   "id": "119de553-05b0-4199-93a7-bb168d5907c0",
   "metadata": {},
   "source": [
    "## Author\n",
    "Gaurav"
   ]
  },
  {
   "cell_type": "code",
   "execution_count": null,
   "id": "fe748c7d-14ef-457d-9f07-a6ed7f8c45cf",
   "metadata": {},
   "outputs": [],
   "source": []
  }
 ],
 "metadata": {
  "kernelspec": {
   "display_name": "Python",
   "language": "python",
   "name": "conda-env-python-py"
  },
  "language_info": {
   "codemirror_mode": {
    "name": "ipython",
    "version": 3
   },
   "file_extension": ".py",
   "mimetype": "text/x-python",
   "name": "python",
   "nbconvert_exporter": "python",
   "pygments_lexer": "ipython3",
   "version": "3.7.12"
  }
 },
 "nbformat": 4,
 "nbformat_minor": 5
}
